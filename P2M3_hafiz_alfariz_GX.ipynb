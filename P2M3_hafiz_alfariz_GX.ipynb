{
 "cells": [
  {
   "cell_type": "markdown",
   "id": "813f18f7",
   "metadata": {},
   "source": [
    "# Validasi Data dengan Great Expectations\n",
    " \n",
    "**Nama:** Hafiz Alfariz\n",
    "\n",
    "Notebook ini digunakan untuk melakukan validasi data hasil cleaning (`P2M3_hafiz_alfariz_data_clean.csv`) menggunakan Great Expectations dengan Data Context, Validator, dan Expectation Suite.\n",
    " \n"
   ]
  },
  {
   "cell_type": "markdown",
   "id": "02b35570",
   "metadata": {},
   "source": [
    "# 1. Import Library"
   ]
  },
  {
   "cell_type": "code",
   "execution_count": 1,
   "id": "9b5627b4",
   "metadata": {},
   "outputs": [],
   "source": [
    "# Import library \n",
    "import pandas as pd\n",
    "import great_expectations as ge\n",
    "from great_expectations.data_context import FileDataContext"
   ]
  },
  {
   "cell_type": "markdown",
   "id": "d53b7bf3",
   "metadata": {},
   "source": [
    "# 2. Setup Data Contect."
   ]
  },
  {
   "cell_type": "code",
   "execution_count": 2,
   "id": "22c89849",
   "metadata": {},
   "outputs": [],
   "source": [
    "# Setup Data Context untuk Great Expectations\n",
    "context = FileDataContext.create(project_root_dir='./gx_context') "
   ]
  },
  {
   "cell_type": "markdown",
   "id": "22d0c31d",
   "metadata": {},
   "source": [
    "# 3. Setup Data Source dan Data Aseet."
   ]
  },
  {
   "cell_type": "code",
   "execution_count": 3,
   "id": "c1bdbcc8",
   "metadata": {},
   "outputs": [],
   "source": [
    "# Setup Datasource dan Data Asset dari file CSV hasil cleaning\n",
    "\n",
    "datasource_name = 'supermarket_sales'\n",
    "datasource = context.sources.add_pandas(datasource_name)\n",
    "asset_name = 'supermarket_sales_clean'\n",
    "csv_file = 'P2M3_hafiz_alfariz_data_clean.csv'\n",
    "asset = datasource.add_csv_asset(asset_name, filepath_or_buffer=csv_file)\n",
    "batch_request = asset.build_batch_request()\n"
   ]
  },
  {
   "cell_type": "markdown",
   "id": "6a898546",
   "metadata": {},
   "source": [
    "# 4. Create Expectation Suite & Validator"
   ]
  },
  {
   "cell_type": "code",
   "execution_count": 4,
   "id": "da785e26",
   "metadata": {},
   "outputs": [
    {
     "data": {
      "application/vnd.jupyter.widget-view+json": {
       "model_id": "4e2977f1a91e4730967452875afdc09d",
       "version_major": 2,
       "version_minor": 0
      },
      "text/plain": [
       "Calculating Metrics:   0%|          | 0/1 [00:00<?, ?it/s]"
      ]
     },
     "metadata": {},
     "output_type": "display_data"
    },
    {
     "data": {
      "text/html": [
       "<div>\n",
       "<style scoped>\n",
       "    .dataframe tbody tr th:only-of-type {\n",
       "        vertical-align: middle;\n",
       "    }\n",
       "\n",
       "    .dataframe tbody tr th {\n",
       "        vertical-align: top;\n",
       "    }\n",
       "\n",
       "    .dataframe thead th {\n",
       "        text-align: right;\n",
       "    }\n",
       "</style>\n",
       "<table border=\"1\" class=\"dataframe\">\n",
       "  <thead>\n",
       "    <tr style=\"text-align: right;\">\n",
       "      <th></th>\n",
       "      <th>invoice_id</th>\n",
       "      <th>branch</th>\n",
       "      <th>city</th>\n",
       "      <th>customer_type</th>\n",
       "      <th>gender</th>\n",
       "      <th>product_line</th>\n",
       "      <th>unit_price</th>\n",
       "      <th>quantity</th>\n",
       "      <th>tax_5pct</th>\n",
       "      <th>sales</th>\n",
       "      <th>date</th>\n",
       "      <th>time</th>\n",
       "      <th>payment</th>\n",
       "      <th>cogs</th>\n",
       "      <th>gross_margin_percentage</th>\n",
       "      <th>gross_income</th>\n",
       "      <th>rating</th>\n",
       "    </tr>\n",
       "  </thead>\n",
       "  <tbody>\n",
       "    <tr>\n",
       "      <th>0</th>\n",
       "      <td>750-67-8428</td>\n",
       "      <td>Alex</td>\n",
       "      <td>Yangon</td>\n",
       "      <td>Member</td>\n",
       "      <td>Female</td>\n",
       "      <td>Health and beauty</td>\n",
       "      <td>74.69</td>\n",
       "      <td>7</td>\n",
       "      <td>26.14</td>\n",
       "      <td>548.97</td>\n",
       "      <td>2019-01-05</td>\n",
       "      <td>NaN</td>\n",
       "      <td>Ewallet</td>\n",
       "      <td>522.83</td>\n",
       "      <td>4.76</td>\n",
       "      <td>26.14</td>\n",
       "      <td>9.1</td>\n",
       "    </tr>\n",
       "    <tr>\n",
       "      <th>1</th>\n",
       "      <td>226-31-3081</td>\n",
       "      <td>Giza</td>\n",
       "      <td>Naypyitaw</td>\n",
       "      <td>Normal</td>\n",
       "      <td>Female</td>\n",
       "      <td>Electronic accessories</td>\n",
       "      <td>15.28</td>\n",
       "      <td>5</td>\n",
       "      <td>3.82</td>\n",
       "      <td>80.22</td>\n",
       "      <td>2019-03-08</td>\n",
       "      <td>NaN</td>\n",
       "      <td>Cash</td>\n",
       "      <td>76.40</td>\n",
       "      <td>4.76</td>\n",
       "      <td>3.82</td>\n",
       "      <td>9.6</td>\n",
       "    </tr>\n",
       "    <tr>\n",
       "      <th>2</th>\n",
       "      <td>631-41-3108</td>\n",
       "      <td>Alex</td>\n",
       "      <td>Yangon</td>\n",
       "      <td>Normal</td>\n",
       "      <td>Female</td>\n",
       "      <td>Home and lifestyle</td>\n",
       "      <td>46.33</td>\n",
       "      <td>7</td>\n",
       "      <td>16.22</td>\n",
       "      <td>340.53</td>\n",
       "      <td>2019-03-03</td>\n",
       "      <td>NaN</td>\n",
       "      <td>Credit card</td>\n",
       "      <td>324.31</td>\n",
       "      <td>4.76</td>\n",
       "      <td>16.22</td>\n",
       "      <td>7.4</td>\n",
       "    </tr>\n",
       "    <tr>\n",
       "      <th>3</th>\n",
       "      <td>123-19-1176</td>\n",
       "      <td>Alex</td>\n",
       "      <td>Yangon</td>\n",
       "      <td>Member</td>\n",
       "      <td>Female</td>\n",
       "      <td>Health and beauty</td>\n",
       "      <td>58.22</td>\n",
       "      <td>8</td>\n",
       "      <td>23.29</td>\n",
       "      <td>489.05</td>\n",
       "      <td>2019-01-27</td>\n",
       "      <td>NaN</td>\n",
       "      <td>Ewallet</td>\n",
       "      <td>465.76</td>\n",
       "      <td>4.76</td>\n",
       "      <td>23.29</td>\n",
       "      <td>8.4</td>\n",
       "    </tr>\n",
       "    <tr>\n",
       "      <th>4</th>\n",
       "      <td>373-73-7910</td>\n",
       "      <td>Alex</td>\n",
       "      <td>Yangon</td>\n",
       "      <td>Member</td>\n",
       "      <td>Female</td>\n",
       "      <td>Sports and travel</td>\n",
       "      <td>86.31</td>\n",
       "      <td>7</td>\n",
       "      <td>30.21</td>\n",
       "      <td>634.38</td>\n",
       "      <td>2019-02-08</td>\n",
       "      <td>NaN</td>\n",
       "      <td>Ewallet</td>\n",
       "      <td>604.17</td>\n",
       "      <td>4.76</td>\n",
       "      <td>30.21</td>\n",
       "      <td>5.3</td>\n",
       "    </tr>\n",
       "  </tbody>\n",
       "</table>\n",
       "</div>"
      ],
      "text/plain": [
       "    invoice_id branch       city customer_type  gender  \\\n",
       "0  750-67-8428   Alex     Yangon        Member  Female   \n",
       "1  226-31-3081   Giza  Naypyitaw        Normal  Female   \n",
       "2  631-41-3108   Alex     Yangon        Normal  Female   \n",
       "3  123-19-1176   Alex     Yangon        Member  Female   \n",
       "4  373-73-7910   Alex     Yangon        Member  Female   \n",
       "\n",
       "             product_line  unit_price  quantity  tax_5pct   sales        date  \\\n",
       "0       Health and beauty       74.69         7     26.14  548.97  2019-01-05   \n",
       "1  Electronic accessories       15.28         5      3.82   80.22  2019-03-08   \n",
       "2      Home and lifestyle       46.33         7     16.22  340.53  2019-03-03   \n",
       "3       Health and beauty       58.22         8     23.29  489.05  2019-01-27   \n",
       "4       Sports and travel       86.31         7     30.21  634.38  2019-02-08   \n",
       "\n",
       "   time      payment    cogs  gross_margin_percentage  gross_income  rating  \n",
       "0   NaN      Ewallet  522.83                     4.76         26.14     9.1  \n",
       "1   NaN         Cash   76.40                     4.76          3.82     9.6  \n",
       "2   NaN  Credit card  324.31                     4.76         16.22     7.4  \n",
       "3   NaN      Ewallet  465.76                     4.76         23.29     8.4  \n",
       "4   NaN      Ewallet  604.17                     4.76         30.21     5.3  "
      ]
     },
     "execution_count": 4,
     "metadata": {},
     "output_type": "execute_result"
    }
   ],
   "source": [
    "# Membuat Expectation Suite dan Validator\n",
    "expectation_suite_name = 'supermarket_clean_suite'\n",
    "context.add_or_update_expectation_suite(expectation_suite_name)\n",
    "validator = context.get_validator(\n",
    "    batch_request=batch_request,\n",
    "    expectation_suite_name=expectation_suite_name\n",
    "    )\n",
    "validator.head()"
   ]
  },
  {
   "cell_type": "markdown",
   "id": "98c39ac9",
   "metadata": {},
   "source": [
    "# 5. Expectation"
   ]
  },
  {
   "cell_type": "markdown",
   "id": "83217d4b",
   "metadata": {},
   "source": [
    "## 5.1 Expectation 1: Kolom `invoice_id` harus unik\n",
    "\n",
    "Kolom invoice_id digunakan sebagai identitas unik setiap transaksi di supermarket. Validasi ini memastikan tidak ada duplikasi invoice, sehingga setiap transaksi dapat ditelusuri dan dianalisis secara akurat. Keunikan invoice_id sangat penting untuk integritas data, pelacakan penjualan, dan audit."
   ]
  },
  {
   "cell_type": "code",
   "execution_count": 5,
   "id": "17c970e6",
   "metadata": {},
   "outputs": [
    {
     "data": {
      "application/vnd.jupyter.widget-view+json": {
       "model_id": "a114ffb17fad44cb89971f91106a9a0b",
       "version_major": 2,
       "version_minor": 0
      },
      "text/plain": [
       "Calculating Metrics:   0%|          | 0/8 [00:00<?, ?it/s]"
      ]
     },
     "metadata": {},
     "output_type": "display_data"
    },
    {
     "name": "stdout",
     "output_type": "stream",
     "text": [
      "Success: True\n"
     ]
    },
    {
     "data": {
      "text/plain": [
       "{\n",
       "  \"success\": true,\n",
       "  \"result\": {\n",
       "    \"element_count\": 1000,\n",
       "    \"unexpected_count\": 0,\n",
       "    \"unexpected_percent\": 0.0,\n",
       "    \"partial_unexpected_list\": [],\n",
       "    \"missing_count\": 0,\n",
       "    \"missing_percent\": 0.0,\n",
       "    \"unexpected_percent_total\": 0.0,\n",
       "    \"unexpected_percent_nonmissing\": 0.0\n",
       "  },\n",
       "  \"meta\": {},\n",
       "  \"exception_info\": {\n",
       "    \"raised_exception\": false,\n",
       "    \"exception_traceback\": null,\n",
       "    \"exception_message\": null\n",
       "  }\n",
       "}"
      ]
     },
     "execution_count": 5,
     "metadata": {},
     "output_type": "execute_result"
    }
   ],
   "source": [
    "# Penjelasan: Setiap transaksi harus memiliki invoice_id yang unik.\n",
    "result_unique = validator.expect_column_values_to_be_unique('invoice_id')\n",
    "print('Success:', result_unique['success'])\n",
    "result_unique"
   ]
  },
  {
   "cell_type": "markdown",
   "id": "fa6ce34f",
   "metadata": {},
   "source": [
    "**Analisa/summary hasil validasi:**\n",
    "- Jumlah data: 1000 baris\n",
    "- Jumlah duplikat: 0\n",
    "- Persentase duplikat: 0%\n",
    "- Tidak ada nilai yang hilang (missing)\n",
    "- Semua nilai pada kolom `invoice_id` adalah unik\n",
    "\n",
    "Hasil ini menunjukkan data transaksi sudah terstruktur dengan baik dan tidak ada masalah duplikasi pada invoice_id. Data siap digunakan untuk analisis lebih lanjut dan dapat diandalkan untuk proses bisnis maupun audit."
   ]
  },
  {
   "cell_type": "markdown",
   "id": "b6955955",
   "metadata": {},
   "source": [
    "## 5.2 Expectation 2: Kolom `rating` harus berada di antara 0 dan 10\n",
    "\n",
    "Kolom `rating` merepresentasikan penilaian pelanggan terhadap transaksi di supermarket, dengan skala 0 hingga 10. Validasi ini memastikan seluruh nilai rating berada dalam rentang yang logis dan sesuai standar, sehingga analisis kepuasan pelanggan dapat dilakukan secara akurat."
   ]
  },
  {
   "cell_type": "code",
   "execution_count": 6,
   "id": "01bfdb70",
   "metadata": {},
   "outputs": [
    {
     "data": {
      "application/vnd.jupyter.widget-view+json": {
       "model_id": "030d57abac084461a9fe4ed17b9ed3a4",
       "version_major": 2,
       "version_minor": 0
      },
      "text/plain": [
       "Calculating Metrics:   0%|          | 0/8 [00:00<?, ?it/s]"
      ]
     },
     "metadata": {},
     "output_type": "display_data"
    },
    {
     "name": "stdout",
     "output_type": "stream",
     "text": [
      "Success: True\n"
     ]
    },
    {
     "data": {
      "text/plain": [
       "{\n",
       "  \"success\": true,\n",
       "  \"result\": {\n",
       "    \"element_count\": 1000,\n",
       "    \"unexpected_count\": 0,\n",
       "    \"unexpected_percent\": 0.0,\n",
       "    \"partial_unexpected_list\": [],\n",
       "    \"missing_count\": 0,\n",
       "    \"missing_percent\": 0.0,\n",
       "    \"unexpected_percent_total\": 0.0,\n",
       "    \"unexpected_percent_nonmissing\": 0.0\n",
       "  },\n",
       "  \"meta\": {},\n",
       "  \"exception_info\": {\n",
       "    \"raised_exception\": false,\n",
       "    \"exception_traceback\": null,\n",
       "    \"exception_message\": null\n",
       "  }\n",
       "}"
      ]
     },
     "execution_count": 6,
     "metadata": {},
     "output_type": "execute_result"
    }
   ],
   "source": [
    "# Penjelasan: Nilai rating transaksi harus valid antara 0 dan 10.\n",
    "result_range = validator.expect_column_values_to_be_between('rating', min_value=0, max_value=10)\n",
    "print('Success:', result_range['success'])\n",
    "result_range"
   ]
  },
  {
   "cell_type": "markdown",
   "id": "960da471",
   "metadata": {},
   "source": [
    "**Analisa/summary hasil validasi:**\n",
    "- Jumlah data: 1000 baris\n",
    "- Jumlah nilai di luar rentang 0-10: 0\n",
    "- Persentase nilai tidak valid: 0%\n",
    "- Tidak ada nilai yang hilang (missing)\n",
    "- Semua nilai rating berada di antara 0 dan 10\n",
    "\n",
    "Hasil ini menunjukkan data rating sudah bersih dan valid, sehingga dapat digunakan untuk analisis kepuasan pelanggan, evaluasi layanan, dan pengambilan keputusan bisnis tanpa risiko bias akibat data yang tidak sesuai."
   ]
  },
  {
   "cell_type": "markdown",
   "id": "e723bf88",
   "metadata": {},
   "source": [
    "## 5.3 Expectation 3: Kolom `gender` hanya berisi `Male` atau `Female`\n",
    "\n",
    "Kolom `gender` merepresentasikan jenis kelamin pelanggan yang melakukan transaksi di supermarket, dengan nilai yang diharapkan hanya 'Male' atau 'Female'. Validasi ini penting untuk memastikan data demografi pelanggan konsisten dan tidak ada nilai yang salah atau di luar standar, sehingga analisis segmentasi dan perilaku pelanggan dapat dilakukan secara akurat.\n"
   ]
  },
  {
   "cell_type": "code",
   "execution_count": 7,
   "id": "2653803a",
   "metadata": {},
   "outputs": [
    {
     "data": {
      "application/vnd.jupyter.widget-view+json": {
       "model_id": "4f060615a7e04a75bbc107b3e26e53db",
       "version_major": 2,
       "version_minor": 0
      },
      "text/plain": [
       "Calculating Metrics:   0%|          | 0/8 [00:00<?, ?it/s]"
      ]
     },
     "metadata": {},
     "output_type": "display_data"
    },
    {
     "name": "stdout",
     "output_type": "stream",
     "text": [
      "Success: True\n"
     ]
    },
    {
     "data": {
      "text/plain": [
       "{\n",
       "  \"success\": true,\n",
       "  \"result\": {\n",
       "    \"element_count\": 1000,\n",
       "    \"unexpected_count\": 0,\n",
       "    \"unexpected_percent\": 0.0,\n",
       "    \"partial_unexpected_list\": [],\n",
       "    \"missing_count\": 0,\n",
       "    \"missing_percent\": 0.0,\n",
       "    \"unexpected_percent_total\": 0.0,\n",
       "    \"unexpected_percent_nonmissing\": 0.0\n",
       "  },\n",
       "  \"meta\": {},\n",
       "  \"exception_info\": {\n",
       "    \"raised_exception\": false,\n",
       "    \"exception_traceback\": null,\n",
       "    \"exception_message\": null\n",
       "  }\n",
       "}"
      ]
     },
     "execution_count": 7,
     "metadata": {},
     "output_type": "execute_result"
    }
   ],
   "source": [
    "# Penjelasan: Gender pelanggan harus valid, hanya 'Male' atau 'Female'.\n",
    "result_in_set = validator.expect_column_values_to_be_in_set('gender', ['Male', 'Female'])\n",
    "print('Success:', result_in_set['success'])\n",
    "result_in_set"
   ]
  },
  {
   "cell_type": "markdown",
   "id": "b3f53dbd",
   "metadata": {},
   "source": [
    "**Analisa/summary hasil validasi:**\n",
    "- Jumlah data: 1000 baris\n",
    "- Jumlah nilai di luar 'Male' atau 'Female': 0\n",
    "- Persentase nilai tidak valid: 0%\n",
    "- Tidak ada nilai yang hilang (missing)\n",
    "- Semua nilai pada kolom `gender` valid\n",
    "\n",
    "Hasil ini menunjukkan data gender pelanggan sudah bersih dan konsisten, sehingga dapat digunakan untuk analisis demografi, segmentasi pasar, dan pengambilan keputusan bisnis tanpa risiko bias akibat data yang tidak sesuai."
   ]
  },
  {
   "cell_type": "markdown",
   "id": "28d1888b",
   "metadata": {},
   "source": [
    "## 5.4 Expectation 4: Kolom `quantity` harus bertipe integer\n",
    "\n",
    "Kolom `quantity` menunjukkan jumlah barang yang dibeli pada setiap transaksi. Validasi tipe data integer sangat penting agar data dapat digunakan untuk perhitungan total penjualan, analisis stok, dan agregasi statistik tanpa risiko error akibat tipe data yang tidak sesuai.\n"
   ]
  },
  {
   "cell_type": "code",
   "execution_count": 8,
   "id": "999f9939",
   "metadata": {},
   "outputs": [
    {
     "data": {
      "application/vnd.jupyter.widget-view+json": {
       "model_id": "4cca8d16f94a420aaeff9bb043a3fe44",
       "version_major": 2,
       "version_minor": 0
      },
      "text/plain": [
       "Calculating Metrics:   0%|          | 0/1 [00:00<?, ?it/s]"
      ]
     },
     "metadata": {},
     "output_type": "display_data"
    },
    {
     "name": "stdout",
     "output_type": "stream",
     "text": [
      "Success: True\n"
     ]
    },
    {
     "data": {
      "text/plain": [
       "{\n",
       "  \"success\": true,\n",
       "  \"result\": {\n",
       "    \"observed_value\": \"int64\"\n",
       "  },\n",
       "  \"meta\": {},\n",
       "  \"exception_info\": {\n",
       "    \"raised_exception\": false,\n",
       "    \"exception_traceback\": null,\n",
       "    \"exception_message\": null\n",
       "  }\n",
       "}"
      ]
     },
     "execution_count": 8,
     "metadata": {},
     "output_type": "execute_result"
    }
   ],
   "source": [
    "# Penjelasan: Jumlah barang yang dibeli harus bertipe integer.\n",
    "result_type = validator.expect_column_values_to_be_of_type('quantity', 'int64')\n",
    "print('Success:', result_type['success'])\n",
    "result_type"
   ]
  },
  {
   "cell_type": "markdown",
   "id": "86b1c370",
   "metadata": {},
   "source": [
    "**Analisa/summary hasil validasi:**\n",
    "- Semua nilai pada kolom `quantity` bertipe `int64` (integer)\n",
    "- Tidak ditemukan nilai dengan tipe data lain\n",
    "- Tidak ada error atau exception selama validasi\n",
    "\n",
    "Hasil ini memastikan data jumlah barang sudah konsisten dan siap digunakan untuk analisis penjualan, forecasting, dan pengelolaan inventori secara akurat."
   ]
  },
  {
   "cell_type": "markdown",
   "id": "7e63226b",
   "metadata": {},
   "source": [
    "## 5.5 Expectation 5: Kolom `payment` hanya boleh berisi [`Cash`, `Credit card`, `Ewallet`]\n",
    "\n",
    "Kolom `payment` menunjukkan metode pembayaran yang digunakan pelanggan saat bertransaksi di supermarket, yaitu 'Cash', 'Credit card', atau 'Ewallet'. Validasi ini memastikan seluruh data pembayaran konsisten dan tidak ada nilai di luar tiga metode yang diizinkan, sehingga analisis preferensi pembayaran dan pengelolaan transaksi dapat dilakukan dengan akurat.\n"
   ]
  },
  {
   "cell_type": "code",
   "execution_count": 9,
   "id": "00fd6602",
   "metadata": {},
   "outputs": [
    {
     "data": {
      "application/vnd.jupyter.widget-view+json": {
       "model_id": "24dac9c7103e4478b2ab553ba9f68c2d",
       "version_major": 2,
       "version_minor": 0
      },
      "text/plain": [
       "Calculating Metrics:   0%|          | 0/8 [00:00<?, ?it/s]"
      ]
     },
     "metadata": {},
     "output_type": "display_data"
    },
    {
     "name": "stdout",
     "output_type": "stream",
     "text": [
      "Success: True\n"
     ]
    },
    {
     "data": {
      "text/plain": [
       "{\n",
       "  \"success\": true,\n",
       "  \"result\": {\n",
       "    \"element_count\": 1000,\n",
       "    \"unexpected_count\": 0,\n",
       "    \"unexpected_percent\": 0.0,\n",
       "    \"partial_unexpected_list\": [],\n",
       "    \"missing_count\": 0,\n",
       "    \"missing_percent\": 0.0,\n",
       "    \"unexpected_percent_total\": 0.0,\n",
       "    \"unexpected_percent_nonmissing\": 0.0\n",
       "  },\n",
       "  \"meta\": {},\n",
       "  \"exception_info\": {\n",
       "    \"raised_exception\": false,\n",
       "    \"exception_traceback\": null,\n",
       "    \"exception_message\": null\n",
       "  }\n",
       "}"
      ]
     },
     "execution_count": 9,
     "metadata": {},
     "output_type": "execute_result"
    }
   ],
   "source": [
    "# Penjelasan: Metode pembayaran harus valid, hanya 'Cash', 'Credit card', atau 'Ewallet'.\n",
    "result_payment = validator.expect_column_values_to_be_in_set('payment', ['Cash', 'Credit card', 'Ewallet'])\n",
    "print('Success:', result_payment['success'])\n",
    "result_payment"
   ]
  },
  {
   "cell_type": "markdown",
   "id": "e2e98c89",
   "metadata": {},
   "source": [
    "**Analisa/summary hasil validasi:**\n",
    "- Jumlah data: 1000 baris\n",
    "- Jumlah nilai di luar 'Cash', 'Credit card', atau 'Ewallet': 0\n",
    "- Persentase nilai tidak valid: 0%\n",
    "- Tidak ada nilai yang hilang (missing)\n",
    "- Semua nilai pada kolom `payment` valid\n",
    "\n",
    "Hasil ini menunjukkan data metode pembayaran sudah bersih dan konsisten, sehingga dapat digunakan untuk analisis tren pembayaran, strategi promosi, dan pengambilan keputusan bisnis tanpa risiko bias akibat data yang tidak sesuai."
   ]
  },
  {
   "cell_type": "markdown",
   "id": "0852776c",
   "metadata": {},
   "source": [
    "## 5.6 Expectation 6: Kolom `branch` harus berisi salah satu dari [`Alex`, `Giza`, `Cairo`]\n",
    "\n",
    "Kolom `branch` merepresentasikan cabang supermarket tempat transaksi dilakukan, dengan nilai yang diharapkan hanya 'Alex', 'Giza', atau 'Cairo'. Validasi ini memastikan data lokasi transaksi konsisten dan tidak ada nilai di luar tiga cabang resmi, sehingga analisis performa cabang dan distribusi penjualan dapat dilakukan secara akurat.\n"
   ]
  },
  {
   "cell_type": "code",
   "execution_count": 10,
   "id": "0679e3a4",
   "metadata": {},
   "outputs": [
    {
     "data": {
      "application/vnd.jupyter.widget-view+json": {
       "model_id": "6c9180d0b7114a4ca6d933b4cdc6650c",
       "version_major": 2,
       "version_minor": 0
      },
      "text/plain": [
       "Calculating Metrics:   0%|          | 0/8 [00:00<?, ?it/s]"
      ]
     },
     "metadata": {},
     "output_type": "display_data"
    },
    {
     "name": "stdout",
     "output_type": "stream",
     "text": [
      "Success: True\n"
     ]
    },
    {
     "data": {
      "text/plain": [
       "{\n",
       "  \"success\": true,\n",
       "  \"result\": {\n",
       "    \"element_count\": 1000,\n",
       "    \"unexpected_count\": 0,\n",
       "    \"unexpected_percent\": 0.0,\n",
       "    \"partial_unexpected_list\": [],\n",
       "    \"missing_count\": 0,\n",
       "    \"missing_percent\": 0.0,\n",
       "    \"unexpected_percent_total\": 0.0,\n",
       "    \"unexpected_percent_nonmissing\": 0.0\n",
       "  },\n",
       "  \"meta\": {},\n",
       "  \"exception_info\": {\n",
       "    \"raised_exception\": false,\n",
       "    \"exception_traceback\": null,\n",
       "    \"exception_message\": null\n",
       "  }\n",
       "}"
      ]
     },
     "execution_count": 10,
     "metadata": {},
     "output_type": "execute_result"
    }
   ],
   "source": [
    "# Penjelasan: Branch toko harus valid, hanya 'Alex', 'Giza', atau 'Cairo'.\n",
    "result_branch = validator.expect_column_values_to_be_in_set('branch', ['Alex', 'Giza', 'Cairo'])\n",
    "print('Success:', result_branch['success'])\n",
    "result_branch"
   ]
  },
  {
   "cell_type": "markdown",
   "id": "6c1a730c",
   "metadata": {},
   "source": [
    "**Analisa/summary hasil validasi:**\n",
    "- Jumlah data: 1000 baris\n",
    "- Jumlah nilai di luar 'Alex', 'Giza', atau 'Cairo': 0\n",
    "- Persentase nilai tidak valid: 0%\n",
    "- Tidak ada nilai yang hilang (missing)\n",
    "- Semua nilai pada kolom `branch` valid\n",
    "\n",
    "Hasil ini menunjukkan data cabang supermarket sudah bersih dan konsisten, sehingga dapat digunakan untuk analisis performa cabang, perencanaan logistik, dan pengambilan keputusan bisnis tanpa risiko bias akibat data yang tidak sesuai."
   ]
  },
  {
   "cell_type": "markdown",
   "id": "cab4a23e",
   "metadata": {},
   "source": [
    "## 5.7 Expectation 7: Kolom `city` harus bertipe string (object)\n"
   ]
  },
  {
   "cell_type": "code",
   "execution_count": 11,
   "id": "955822eb",
   "metadata": {},
   "outputs": [
    {
     "data": {
      "application/vnd.jupyter.widget-view+json": {
       "model_id": "ef2b6bf3862343a4804f6a4d3e9ee400",
       "version_major": 2,
       "version_minor": 0
      },
      "text/plain": [
       "Calculating Metrics:   0%|          | 0/1 [00:00<?, ?it/s]"
      ]
     },
     "metadata": {},
     "output_type": "display_data"
    },
    {
     "name": "stdout",
     "output_type": "stream",
     "text": [
      "Success: True\n"
     ]
    },
    {
     "data": {
      "text/plain": [
       "{\n",
       "  \"success\": true,\n",
       "  \"result\": {\n",
       "    \"observed_value\": \"object_\"\n",
       "  },\n",
       "  \"meta\": {},\n",
       "  \"exception_info\": {\n",
       "    \"raised_exception\": false,\n",
       "    \"exception_traceback\": null,\n",
       "    \"exception_message\": null\n",
       "  }\n",
       "}"
      ]
     },
     "execution_count": 11,
     "metadata": {},
     "output_type": "execute_result"
    }
   ],
   "source": [
    "# Penjelasan: Nama kota harus bertipe string agar valid untuk analisis.\n",
    "result_city_type = validator.expect_column_values_to_be_of_type('city', 'object')\n",
    "print('Success:', result_city_type['success'])\n",
    "result_city_type"
   ]
  },
  {
   "cell_type": "markdown",
   "id": "6965586a",
   "metadata": {},
   "source": [
    "**Analisa/summary hasil validasi:**\n",
    "- Semua nilai pada kolom `city` bertipe `object` (string) sesuai dengan yang diharapkan.\n",
    "- Tidak ditemukan nilai dengan tipe data lain.\n",
    "- Tidak ada error atau exception selama proses validasi.\n",
    "- Hasil validasi menunjukkan bahwa data kota sudah konsisten dan siap digunakan untuk analisis lokasi, segmentasi pasar, dan visualisasi geografis.\n",
    "\n",
    "Validasi ini memastikan bahwa kolom `city` dapat diolah dengan fungsi-fungsi string pada analisis data, sehingga tidak akan terjadi error tipe data saat melakukan grouping, filtering, atau visualisasi berdasarkan kota. Data sudah memenuhi standar dan siap digunakan untuk tahap analisis selanjutnya."
   ]
  },
  {
   "cell_type": "code",
   "execution_count": 12,
   "id": "24d70e7f",
   "metadata": {},
   "outputs": [],
   "source": [
    "# Simpan expectation suite agar dapat digunakan untuk validasi selanjutnya\n",
    "validator.save_expectation_suite(discard_failed_expectations=False)"
   ]
  },
  {
   "cell_type": "markdown",
   "id": "75b95efe",
   "metadata": {},
   "source": [
    "# 6. Overall Hasil Analisis dan Review Validasi Data\n",
    " \n",
    "Seluruh proses validasi data pada dataset supermarket sales telah dilakukan menggunakan Great Expectations dengan 7 expectation utama, meliputi keunikan invoice_id, rentang rating, validasi gender, tipe data quantity, validasi payment, validasi branch, dan tipe data city.\n",
    " \n",
    "**Hasil utama dari validasi:**\n",
    "- Semua expectation berhasil (success: True), menandakan data sudah bersih, konsisten, dan sesuai standar bisnis.\n",
    "- Tidak ditemukan duplikasi, nilai di luar rentang, atau tipe data yang tidak sesuai pada kolom-kolom utama.\n",
    "- Data siap digunakan untuk analisis lebih lanjut, seperti segmentasi pelanggan, analisis performa cabang, tren pembayaran, dan visualisasi geografis.\n",
    " \n",
    "**Review:**\n",
    "- Proses validasi ini memastikan integritas dan kualitas data, sehingga hasil analisis dan insight yang dihasilkan dapat diandalkan untuk pengambilan keputusan bisnis.\n",
    "- Dengan data yang sudah tervalidasi, risiko error, bias, dan misinterpretasi dapat diminimalisir.\n",
    "- Notebook ini telah memenuhi seluruh instruksi milestone, baik dari sisi jumlah expectation, penjelasan, analisa, maupun dokumentasi hasil.\n",
    " \n",
    "**Kesimpulan:**\n",
    "Data supermarket sales sudah siap untuk tahap selanjutnya, seperti integrasi ke Elasticsearch, pembuatan DAG, dan visualisasi di Kibana. Validasi data yang komprehensif menjadi fondasi penting untuk analisis data yang akurat dan actionable."
   ]
  }
 ],
 "metadata": {
  "kernelspec": {
   "display_name": "h8_env",
   "language": "python",
   "name": "python3"
  },
  "language_info": {
   "codemirror_mode": {
    "name": "ipython",
    "version": 3
   },
   "file_extension": ".py",
   "mimetype": "text/x-python",
   "name": "python",
   "nbconvert_exporter": "python",
   "pygments_lexer": "ipython3",
   "version": "3.9.23"
  }
 },
 "nbformat": 4,
 "nbformat_minor": 5
}
